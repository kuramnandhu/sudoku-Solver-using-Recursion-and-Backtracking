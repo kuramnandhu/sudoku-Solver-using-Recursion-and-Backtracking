{
  "nbformat": 4,
  "nbformat_minor": 0,
  "metadata": {
    "colab": {
      "provenance": []
    },
    "kernelspec": {
      "name": "python3",
      "display_name": "Python 3"
    },
    "language_info": {
      "name": "python"
    }
  },
  "cells": [
    {
      "cell_type": "code",
      "execution_count": 1,
      "metadata": {
        "id": "_KlFA91qd0AE"
      },
      "outputs": [],
      "source": [
        "# Step 1: Define the Sudoku board (0 means empty cell)\n",
        "board = [\n",
        "    [5, 3, 0, 0, 7, 0, 0, 0, 0],\n",
        "    [6, 0, 0, 1, 9, 5, 0, 0, 0],\n",
        "    [0, 9, 8, 0, 0, 0, 0, 6, 0],\n",
        "    [8, 0, 0, 0, 6, 0, 0, 0, 3],\n",
        "    [4, 0, 0, 8, 0, 3, 0, 0, 1],\n",
        "    [7, 0, 0, 0, 2, 0, 0, 0, 6],\n",
        "    [0, 6, 0, 0, 0, 0, 2, 8, 0],\n",
        "    [0, 0, 0, 4, 1, 9, 0, 0, 5],\n",
        "    [0, 0, 0, 0, 8, 0, 0, 7, 9]\n",
        "]\n"
      ]
    },
    {
      "cell_type": "code",
      "source": [
        "# Step 2: Pretty print the board\n",
        "def print_board(bd):\n",
        "    for i in range(len(bd)):\n",
        "        if i % 3 == 0 and i != 0:\n",
        "            print(\"-\" * 21)  # horizontal separator\n",
        "        for j in range(len(bd[0])):\n",
        "            if j % 3 == 0 and j != 0:\n",
        "                print(\" | \", end=\"\")\n",
        "            if j == 8:\n",
        "                print(bd[i][j])\n",
        "            else:\n",
        "                print(str(bd[i][j]) + \" \", end=\"\")\n"
      ],
      "metadata": {
        "id": "PPLwNDTad8NZ"
      },
      "execution_count": 2,
      "outputs": []
    },
    {
      "cell_type": "code",
      "source": [
        "# Step 3: Find empty cell (0 means empty)\n",
        "def find_empty(bd):\n",
        "    for i in range(len(bd)):\n",
        "        for j in range(len(bd[0])):\n",
        "            if bd[i][j] == 0:\n",
        "                return (i, j)  # row, col\n",
        "    return None\n"
      ],
      "metadata": {
        "id": "y5-HMjTteC9Y"
      },
      "execution_count": 3,
      "outputs": []
    },
    {
      "cell_type": "code",
      "source": [
        "# Step 4: Check if placing a number is valid\n",
        "def is_valid(bd, num, pos):\n",
        "    row, col = pos\n",
        "\n",
        "    # Check row\n",
        "    for j in range(len(bd[0])):\n",
        "        if bd[row][j] == num and j != col:\n",
        "            return False\n",
        "\n",
        "    # Check column\n",
        "    for i in range(len(bd)):\n",
        "        if bd[i][col] == num and i != row:\n",
        "            return False\n",
        "\n",
        "    # Check 3x3 box\n",
        "    box_x = col // 3\n",
        "    box_y = row // 3\n",
        "    for i in range(box_y*3, box_y*3 + 3):\n",
        "        for j in range(box_x*3, box_x*3 + 3):\n",
        "            if bd[i][j] == num and (i, j) != pos:\n",
        "                return False\n",
        "\n",
        "    return True\n"
      ],
      "metadata": {
        "id": "lrLu0fareGvO"
      },
      "execution_count": 4,
      "outputs": []
    },
    {
      "cell_type": "code",
      "source": [
        "# Step 5: Solve Sudoku using recursion + backtracking\n",
        "def solve(bd):\n",
        "    find = find_empty(bd)\n",
        "    if not find:\n",
        "        return True  # Solved\n",
        "    row, col = find\n",
        "\n",
        "    for num in range(1, 10):  # Try numbers 1-9\n",
        "        if is_valid(bd, num, (row, col)):\n",
        "            bd[row][col] = num  # Place number\n",
        "\n",
        "            if solve(bd):  # Recursive call\n",
        "                return True\n",
        "\n",
        "            bd[row][col] = 0  # Backtrack\n",
        "\n",
        "    return False\n"
      ],
      "metadata": {
        "id": "HRiPlkvNeMTm"
      },
      "execution_count": 5,
      "outputs": []
    },
    {
      "cell_type": "code",
      "source": [
        "print(\"Sudoku Puzzle:\")\n",
        "print_board(board)\n",
        "\n",
        "solve(board)\n",
        "\n",
        "print(\"\\nSolved Sudoku:\")\n",
        "print_board(board)\n"
      ],
      "metadata": {
        "colab": {
          "base_uri": "https://localhost:8080/"
        },
        "id": "S6O9by4PeQmP",
        "outputId": "c2b812c0-60cb-4260-ba9d-c86072239d83"
      },
      "execution_count": 6,
      "outputs": [
        {
          "output_type": "stream",
          "name": "stdout",
          "text": [
            "Sudoku Puzzle:\n",
            "5 3 0  | 0 7 0  | 0 0 0\n",
            "6 0 0  | 1 9 5  | 0 0 0\n",
            "0 9 8  | 0 0 0  | 0 6 0\n",
            "---------------------\n",
            "8 0 0  | 0 6 0  | 0 0 3\n",
            "4 0 0  | 8 0 3  | 0 0 1\n",
            "7 0 0  | 0 2 0  | 0 0 6\n",
            "---------------------\n",
            "0 6 0  | 0 0 0  | 2 8 0\n",
            "0 0 0  | 4 1 9  | 0 0 5\n",
            "0 0 0  | 0 8 0  | 0 7 9\n",
            "\n",
            "Solved Sudoku:\n",
            "5 3 4  | 6 7 8  | 9 1 2\n",
            "6 7 2  | 1 9 5  | 3 4 8\n",
            "1 9 8  | 3 4 2  | 5 6 7\n",
            "---------------------\n",
            "8 5 9  | 7 6 1  | 4 2 3\n",
            "4 2 6  | 8 5 3  | 7 9 1\n",
            "7 1 3  | 9 2 4  | 8 5 6\n",
            "---------------------\n",
            "9 6 1  | 5 3 7  | 2 8 4\n",
            "2 8 7  | 4 1 9  | 6 3 5\n",
            "3 4 5  | 2 8 6  | 1 7 9\n"
          ]
        }
      ]
    }
  ]
}